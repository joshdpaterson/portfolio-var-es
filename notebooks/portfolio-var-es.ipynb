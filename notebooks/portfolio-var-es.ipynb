{
 "cells": [
  {
   "cell_type": "code",
   "execution_count": 1,
   "id": "63b1a9b2",
   "metadata": {},
   "outputs": [
    {
     "name": "stdout",
     "output_type": "stream",
     "text": [
      "Config OK — weights sum to 1 and are non-negative.\n"
     ]
    }
   ],
   "source": [
    "# Cell 1: Imports & Configuration\n",
    "import numpy as np\n",
    "import pandas as pd\n",
    "import matplotlib.pyplot as plt\n",
    "import sys, subprocess\n",
    "\n",
    "# Try to import yfinance; install if missing so notebook is self-contained\n",
    "try:\n",
    "    import yfinance as yf\n",
    "except ImportError:\n",
    "    print(\"yfinance not found. Installing...\")\n",
    "    subprocess.check_call([sys.executable, \"-m\", \"pip\", \"install\", \"yfinance\", \"-q\"])\n",
    "    import yfinance as yf\n",
    "\n",
    "# Fix random seed for reproducibility (important in Monte Carlo)\n",
    "SEED = 42\n",
    "rng = np.random.default_rng(SEED)\n",
    "\n",
    "# Portfolio definition\n",
    "tickers = [\"SPY\", \"EFA\", \"IEMG\", \"AGG\"]    # US equities, developed ex-US, EM equities, US bonds\n",
    "weights = [0.50, 0.20, 0.15, 0.15]         # Portfolio weights (must sum to 1)\n",
    "\n",
    "# Historical data window\n",
    "start = \"2015-01-01\"\n",
    "end = pd.Timestamp.today().strftime(\"%Y-%m-%d\")\n",
    "\n",
    "# Portfolio capital and horizon (here: 1-day VaR)\n",
    "capital = 1_000_000.0\n",
    "horizon_days = 1  \n",
    "\n",
    "# Monte Carlo parameters\n",
    "n_sims = 200_000\n",
    "return_model = \"log\"  # choice: 'log' returns or 'arithmetic' returns\n",
    "\n",
    "# Stress testing: adjust correlation structure if desired\n",
    "target_offdiag_corr = 0.25\n",
    "shock_strength = 1.0\n",
    "\n",
    "# VaR confidence level\n",
    "alpha = 0.95\n",
    "\n",
    "# Wrap weights in a Series for label alignment\n",
    "w = pd.Series(weights, index=tickers, dtype=float)\n",
    "assert np.isclose(w.sum(), 1.0), \"Weights must sum to 1.\"\n",
    "print(\"Config OK — weights sum to 1 and are non-negative.\")\n"
   ]
  },
  {
   "cell_type": "code",
   "execution_count": 2,
   "id": "45a6e271",
   "metadata": {},
   "outputs": [
    {
     "name": "stdout",
     "output_type": "stream",
     "text": [
      "Downloading prices with yfinance...\n"
     ]
    },
    {
     "data": {
      "text/html": [
       "<div>\n",
       "<style scoped>\n",
       "    .dataframe tbody tr th:only-of-type {\n",
       "        vertical-align: middle;\n",
       "    }\n",
       "\n",
       "    .dataframe tbody tr th {\n",
       "        vertical-align: top;\n",
       "    }\n",
       "\n",
       "    .dataframe thead th {\n",
       "        text-align: right;\n",
       "    }\n",
       "</style>\n",
       "<table border=\"1\" class=\"dataframe\">\n",
       "  <thead>\n",
       "    <tr style=\"text-align: right;\">\n",
       "      <th>Ticker</th>\n",
       "      <th>SPY</th>\n",
       "      <th>EFA</th>\n",
       "      <th>IEMG</th>\n",
       "      <th>AGG</th>\n",
       "    </tr>\n",
       "    <tr>\n",
       "      <th>Date</th>\n",
       "      <th></th>\n",
       "      <th></th>\n",
       "      <th></th>\n",
       "      <th></th>\n",
       "    </tr>\n",
       "  </thead>\n",
       "  <tbody>\n",
       "    <tr>\n",
       "      <th>2025-09-26</th>\n",
       "      <td>661.820007</td>\n",
       "      <td>92.629997</td>\n",
       "      <td>65.190002</td>\n",
       "      <td>99.745583</td>\n",
       "    </tr>\n",
       "    <tr>\n",
       "      <th>2025-09-29</th>\n",
       "      <td>663.679993</td>\n",
       "      <td>92.989998</td>\n",
       "      <td>65.699997</td>\n",
       "      <td>99.934967</td>\n",
       "    </tr>\n",
       "    <tr>\n",
       "      <th>2025-09-30</th>\n",
       "      <td>666.179993</td>\n",
       "      <td>93.370003</td>\n",
       "      <td>65.919998</td>\n",
       "      <td>99.925003</td>\n",
       "    </tr>\n",
       "    <tr>\n",
       "      <th>2025-10-01</th>\n",
       "      <td>668.450012</td>\n",
       "      <td>94.139999</td>\n",
       "      <td>66.440002</td>\n",
       "      <td>100.180000</td>\n",
       "    </tr>\n",
       "    <tr>\n",
       "      <th>2025-10-02</th>\n",
       "      <td>669.219971</td>\n",
       "      <td>94.290001</td>\n",
       "      <td>66.750000</td>\n",
       "      <td>100.290001</td>\n",
       "    </tr>\n",
       "  </tbody>\n",
       "</table>\n",
       "</div>"
      ],
      "text/plain": [
       "Ticker             SPY        EFA       IEMG         AGG\n",
       "Date                                                    \n",
       "2025-09-26  661.820007  92.629997  65.190002   99.745583\n",
       "2025-09-29  663.679993  92.989998  65.699997   99.934967\n",
       "2025-09-30  666.179993  93.370003  65.919998   99.925003\n",
       "2025-10-01  668.450012  94.139999  66.440002  100.180000\n",
       "2025-10-02  669.219971  94.290001  66.750000  100.290001"
      ]
     },
     "metadata": {},
     "output_type": "display_data"
    },
    {
     "name": "stdout",
     "output_type": "stream",
     "text": [
      "Price data shape: (2704, 4)\n"
     ]
    }
   ],
   "source": [
    "# Cell 2: Load price data\n",
    "# By default this downloads adjusted close prices via yfinance\n",
    "print(\"Downloading prices with yfinance...\")\n",
    "prices = yf.download(tickers, start=start, end=end, auto_adjust=True, progress=False)[\"Close\"]\n",
    "\n",
    "# Ensure column order matches tickers list and drop missing data\n",
    "prices = prices[tickers].sort_index().dropna(how=\"any\")\n",
    "\n",
    "display(prices.tail())\n",
    "print(\"Price data shape:\", prices.shape)\n"
   ]
  },
  {
   "cell_type": "code",
   "execution_count": 3,
   "id": "8095042c",
   "metadata": {},
   "outputs": [
    {
     "name": "stdout",
     "output_type": "stream",
     "text": [
      "Log/arithmetic return shapes: (2703, 4) (2703, 4)\n"
     ]
    },
    {
     "data": {
      "text/html": [
       "<div>\n",
       "<style scoped>\n",
       "    .dataframe tbody tr th:only-of-type {\n",
       "        vertical-align: middle;\n",
       "    }\n",
       "\n",
       "    .dataframe tbody tr th {\n",
       "        vertical-align: top;\n",
       "    }\n",
       "\n",
       "    .dataframe thead th {\n",
       "        text-align: right;\n",
       "    }\n",
       "</style>\n",
       "<table border=\"1\" class=\"dataframe\">\n",
       "  <thead>\n",
       "    <tr style=\"text-align: right;\">\n",
       "      <th>Ticker</th>\n",
       "      <th>SPY</th>\n",
       "      <th>EFA</th>\n",
       "      <th>IEMG</th>\n",
       "      <th>AGG</th>\n",
       "    </tr>\n",
       "    <tr>\n",
       "      <th>Date</th>\n",
       "      <th></th>\n",
       "      <th></th>\n",
       "      <th></th>\n",
       "      <th></th>\n",
       "    </tr>\n",
       "  </thead>\n",
       "  <tbody>\n",
       "    <tr>\n",
       "      <th>2025-09-26</th>\n",
       "      <td>0.005713</td>\n",
       "      <td>0.007694</td>\n",
       "      <td>-0.002910</td>\n",
       "      <td>0.000700</td>\n",
       "    </tr>\n",
       "    <tr>\n",
       "      <th>2025-09-29</th>\n",
       "      <td>0.002806</td>\n",
       "      <td>0.003879</td>\n",
       "      <td>0.007793</td>\n",
       "      <td>0.001897</td>\n",
       "    </tr>\n",
       "    <tr>\n",
       "      <th>2025-09-30</th>\n",
       "      <td>0.003760</td>\n",
       "      <td>0.004078</td>\n",
       "      <td>0.003343</td>\n",
       "      <td>-0.000100</td>\n",
       "    </tr>\n",
       "    <tr>\n",
       "      <th>2025-10-01</th>\n",
       "      <td>0.003402</td>\n",
       "      <td>0.008213</td>\n",
       "      <td>0.007857</td>\n",
       "      <td>0.002549</td>\n",
       "    </tr>\n",
       "    <tr>\n",
       "      <th>2025-10-02</th>\n",
       "      <td>0.001151</td>\n",
       "      <td>0.001592</td>\n",
       "      <td>0.004655</td>\n",
       "      <td>0.001097</td>\n",
       "    </tr>\n",
       "  </tbody>\n",
       "</table>\n",
       "</div>"
      ],
      "text/plain": [
       "Ticker           SPY       EFA      IEMG       AGG\n",
       "Date                                              \n",
       "2025-09-26  0.005713  0.007694 -0.002910  0.000700\n",
       "2025-09-29  0.002806  0.003879  0.007793  0.001897\n",
       "2025-09-30  0.003760  0.004078  0.003343 -0.000100\n",
       "2025-10-01  0.003402  0.008213  0.007857  0.002549\n",
       "2025-10-02  0.001151  0.001592  0.004655  0.001097"
      ]
     },
     "metadata": {},
     "output_type": "display_data"
    }
   ],
   "source": [
    "# Cell 3: Compute daily returns\n",
    "# Two common return definitions:\n",
    "# - log returns (additive over time, useful for modeling)\n",
    "# - arithmetic returns (actual % change, what P&L feels like)\n",
    "log_rets = np.log(prices / prices.shift(1)).dropna()\n",
    "arith_rets = prices.pct_change().dropna()\n",
    "\n",
    "# Enforce consistent column order\n",
    "log_rets = log_rets[tickers]\n",
    "arith_rets = arith_rets[tickers]\n",
    "\n",
    "print(\"Log/arithmetic return shapes:\", log_rets.shape, arith_rets.shape)\n",
    "display(log_rets.tail())\n"
   ]
  },
  {
   "cell_type": "code",
   "execution_count": 4,
   "id": "e848da25",
   "metadata": {},
   "outputs": [
    {
     "name": "stdout",
     "output_type": "stream",
     "text": [
      "Annualized vols (approx, from log-returns):\n"
     ]
    },
    {
     "data": {
      "text/plain": [
       "Ticker\n",
       "IEMG    0.201052\n",
       "SPY     0.179313\n",
       "EFA     0.174145\n",
       "AGG     0.052960\n",
       "dtype: float64"
      ]
     },
     "metadata": {},
     "output_type": "display_data"
    },
    {
     "name": "stdout",
     "output_type": "stream",
     "text": [
      "Correlation matrix:\n"
     ]
    },
    {
     "data": {
      "text/html": [
       "<div>\n",
       "<style scoped>\n",
       "    .dataframe tbody tr th:only-of-type {\n",
       "        vertical-align: middle;\n",
       "    }\n",
       "\n",
       "    .dataframe tbody tr th {\n",
       "        vertical-align: top;\n",
       "    }\n",
       "\n",
       "    .dataframe thead th {\n",
       "        text-align: right;\n",
       "    }\n",
       "</style>\n",
       "<table border=\"1\" class=\"dataframe\">\n",
       "  <thead>\n",
       "    <tr style=\"text-align: right;\">\n",
       "      <th>Ticker</th>\n",
       "      <th>SPY</th>\n",
       "      <th>EFA</th>\n",
       "      <th>IEMG</th>\n",
       "      <th>AGG</th>\n",
       "    </tr>\n",
       "    <tr>\n",
       "      <th>Ticker</th>\n",
       "      <th></th>\n",
       "      <th></th>\n",
       "      <th></th>\n",
       "      <th></th>\n",
       "    </tr>\n",
       "  </thead>\n",
       "  <tbody>\n",
       "    <tr>\n",
       "      <th>SPY</th>\n",
       "      <td>1.000000</td>\n",
       "      <td>0.849570</td>\n",
       "      <td>0.762006</td>\n",
       "      <td>0.095807</td>\n",
       "    </tr>\n",
       "    <tr>\n",
       "      <th>EFA</th>\n",
       "      <td>0.849570</td>\n",
       "      <td>1.000000</td>\n",
       "      <td>0.840265</td>\n",
       "      <td>0.141298</td>\n",
       "    </tr>\n",
       "    <tr>\n",
       "      <th>IEMG</th>\n",
       "      <td>0.762006</td>\n",
       "      <td>0.840265</td>\n",
       "      <td>1.000000</td>\n",
       "      <td>0.113702</td>\n",
       "    </tr>\n",
       "    <tr>\n",
       "      <th>AGG</th>\n",
       "      <td>0.095807</td>\n",
       "      <td>0.141298</td>\n",
       "      <td>0.113702</td>\n",
       "      <td>1.000000</td>\n",
       "    </tr>\n",
       "  </tbody>\n",
       "</table>\n",
       "</div>"
      ],
      "text/plain": [
       "Ticker       SPY       EFA      IEMG       AGG\n",
       "Ticker                                        \n",
       "SPY     1.000000  0.849570  0.762006  0.095807\n",
       "EFA     0.849570  1.000000  0.840265  0.141298\n",
       "IEMG    0.762006  0.840265  1.000000  0.113702\n",
       "AGG     0.095807  0.141298  0.113702  1.000000"
      ]
     },
     "metadata": {},
     "output_type": "display_data"
    }
   ],
   "source": [
    "# Cell 4: Quick sanity checks\n",
    "# Check annualized volatilities and correlation matrix\n",
    "trading_days = 252\n",
    "ann_vol_log = np.sqrt(np.diag(log_rets.cov().values) * trading_days)\n",
    "ann_vol = pd.Series(ann_vol_log, index=log_rets.columns).sort_values(ascending=False)\n",
    "\n",
    "print(\"Annualized vols (approx, from log-returns):\")\n",
    "display(ann_vol)\n",
    "\n",
    "print(\"Correlation matrix:\")\n",
    "display(log_rets.corr())\n"
   ]
  },
  {
   "cell_type": "code",
   "execution_count": 5,
   "id": "e5e8cb33",
   "metadata": {},
   "outputs": [
    {
     "name": "stdout",
     "output_type": "stream",
     "text": [
      "Selected model: log\n"
     ]
    },
    {
     "data": {
      "text/plain": [
       "Ticker\n",
       "SPY     0.000505\n",
       "EFA     0.000277\n",
       "IEMG    0.000236\n",
       "AGG     0.000071\n",
       "dtype: float64"
      ]
     },
     "metadata": {},
     "output_type": "display_data"
    },
    {
     "data": {
      "text/html": [
       "<div>\n",
       "<style scoped>\n",
       "    .dataframe tbody tr th:only-of-type {\n",
       "        vertical-align: middle;\n",
       "    }\n",
       "\n",
       "    .dataframe tbody tr th {\n",
       "        vertical-align: top;\n",
       "    }\n",
       "\n",
       "    .dataframe thead th {\n",
       "        text-align: right;\n",
       "    }\n",
       "</style>\n",
       "<table border=\"1\" class=\"dataframe\">\n",
       "  <thead>\n",
       "    <tr style=\"text-align: right;\">\n",
       "      <th>Ticker</th>\n",
       "      <th>SPY</th>\n",
       "      <th>EFA</th>\n",
       "      <th>IEMG</th>\n",
       "      <th>AGG</th>\n",
       "    </tr>\n",
       "    <tr>\n",
       "      <th>Ticker</th>\n",
       "      <th></th>\n",
       "      <th></th>\n",
       "      <th></th>\n",
       "      <th></th>\n",
       "    </tr>\n",
       "  </thead>\n",
       "  <tbody>\n",
       "    <tr>\n",
       "      <th>SPY</th>\n",
       "      <td>0.000128</td>\n",
       "      <td>0.000105</td>\n",
       "      <td>0.000109</td>\n",
       "      <td>0.000004</td>\n",
       "    </tr>\n",
       "    <tr>\n",
       "      <th>EFA</th>\n",
       "      <td>0.000105</td>\n",
       "      <td>0.000120</td>\n",
       "      <td>0.000117</td>\n",
       "      <td>0.000005</td>\n",
       "    </tr>\n",
       "    <tr>\n",
       "      <th>IEMG</th>\n",
       "      <td>0.000109</td>\n",
       "      <td>0.000117</td>\n",
       "      <td>0.000160</td>\n",
       "      <td>0.000005</td>\n",
       "    </tr>\n",
       "    <tr>\n",
       "      <th>AGG</th>\n",
       "      <td>0.000004</td>\n",
       "      <td>0.000005</td>\n",
       "      <td>0.000005</td>\n",
       "      <td>0.000011</td>\n",
       "    </tr>\n",
       "  </tbody>\n",
       "</table>\n",
       "</div>"
      ],
      "text/plain": [
       "Ticker       SPY       EFA      IEMG       AGG\n",
       "Ticker                                        \n",
       "SPY     0.000128  0.000105  0.000109  0.000004\n",
       "EFA     0.000105  0.000120  0.000117  0.000005\n",
       "IEMG    0.000109  0.000117  0.000160  0.000005\n",
       "AGG     0.000004  0.000005  0.000005  0.000011"
      ]
     },
     "metadata": {},
     "output_type": "display_data"
    }
   ],
   "source": [
    "# Cell 5: Estimate mean and covariance\n",
    "# Choice: log-return model (simulate in log space) or arithmetic-return model\n",
    "if return_model == \"log\":\n",
    "    mu = log_rets.mean() * horizon_days\n",
    "    cov = log_rets.cov() * horizon_days\n",
    "elif return_model == \"arithmetic\":\n",
    "    mu = arith_rets.mean() * horizon_days\n",
    "    cov = arith_rets.cov() * horizon_days\n",
    "else:\n",
    "    raise ValueError(\"return_model must be 'log' or 'arithmetic'\")\n",
    "\n",
    "print(\"Selected model:\", return_model)\n",
    "display(mu)\n",
    "display(cov)\n"
   ]
  },
  {
   "cell_type": "code",
   "execution_count": 6,
   "id": "4a2850ce",
   "metadata": {},
   "outputs": [
    {
     "name": "stdout",
     "output_type": "stream",
     "text": [
      "Simulated mean daily return: 0.000398\n",
      "Simulated daily volatility : 0.009287\n",
      "Monte Carlo VaR 95% (1-day): £14,803\n",
      "Monte Carlo ES  95% (1-day): £18,615\n"
     ]
    },
    {
     "data": {
      "image/png": "[encoded data removed]",
      "text/plain": [
       "<Figure size 700x400 with 1 Axes>"
      ]
     },
     "metadata": {},
     "output_type": "display_data"
    }
   ],
   "source": [
    "# Cell 6: Monte Carlo simulation of portfolio P&L\n",
    "# 1. Draw random shocks with correct covariance via Cholesky\n",
    "# 2. Convert to arithmetic returns if working in log space\n",
    "# 3. Apply weights to get portfolio return distribution\n",
    "L = np.linalg.cholesky(cov.values)\n",
    "z = rng.standard_normal(size=(n_sims, len(tickers)))\n",
    "shocks = z @ L.T + mu.values\n",
    "\n",
    "if return_model == \"log\":\n",
    "    sim_rets = np.exp(shocks) - 1.0\n",
    "else:\n",
    "    sim_rets = shocks\n",
    "\n",
    "port_rets = sim_rets @ w.values\n",
    "port_pnl = capital * port_rets\n",
    "\n",
    "# Summary statistics\n",
    "port_mean = port_rets.mean()\n",
    "port_std = port_rets.std(ddof=1)\n",
    "\n",
    "print(f\"Simulated mean daily return: {port_mean:.6f}\")\n",
    "print(f\"Simulated daily volatility : {port_std:.6f}\")\n",
    "\n",
    "# Compute Value-at-Risk and Expected Shortfall\n",
    "q = np.quantile(port_pnl, 1 - alpha)\n",
    "var_95 = -q\n",
    "es_95 = -port_pnl[port_pnl <= q].mean()\n",
    "\n",
    "print(f\"Monte Carlo VaR {int(alpha*100)}% (1-day): £{var_95:,.0f}\")\n",
    "print(f\"Monte Carlo ES  {int(alpha*100)}% (1-day): £{es_95:,.0f}\")\n",
    "\n",
    "# Plot simulated distribution\n",
    "plt.figure(figsize=(7,4))\n",
    "plt.hist(port_pnl, bins=100)\n",
    "plt.axvline(-var_95, linestyle='--', color=\"red\")\n",
    "plt.title(\"Simulated 1-Day Portfolio P&L\")\n",
    "plt.xlabel(\"P&L (£)\")\n",
    "plt.ylabel(\"Frequency\")\n",
    "plt.show()\n"
   ]
  },
  {
   "cell_type": "code",
   "execution_count": 7,
   "id": "8262348e",
   "metadata": {},
   "outputs": [
    {
     "name": "stdout",
     "output_type": "stream",
     "text": [
      "Parametric VaR 95% (1-day, normal approx): £14,792\n",
      "Backtest breaches: 107/2703 (3.96%)\n"
     ]
    }
   ],
   "source": [
    "# Cell 7: Parametric (normal) VaR & simple backtest\n",
    "# Uses historical mean and variance of arithmetic returns\n",
    "mu_lin = arith_rets.mean() * horizon_days\n",
    "cov_lin = arith_rets.cov() * horizon_days\n",
    "\n",
    "port_mu_lin = float(mu_lin @ w)\n",
    "port_sigma_lin = float(np.sqrt(w @ cov_lin @ w))\n",
    "\n",
    "# Normal quantile without SciPy (using statistics.NormalDist)\n",
    "from statistics import NormalDist\n",
    "z_alpha = NormalDist().inv_cdf(alpha)\n",
    "\n",
    "var_param = capital * (-(port_mu_lin) + z_alpha * port_sigma_lin)\n",
    "\n",
    "print(f\"Parametric VaR {int(alpha*100)}% (1-day, normal approx): £{var_param:,.0f}\")\n",
    "\n",
    "# Backtest: count how often realized loss < -VaR\n",
    "hist_port_rets = (arith_rets @ w).dropna()\n",
    "hist_port_pnl = capital * hist_port_rets\n",
    "breaches = (hist_port_pnl < -var_param).sum()\n",
    "total = len(hist_port_pnl)\n",
    "breach_rate = breaches / total if total else np.nan\n",
    "print(f\"Backtest breaches: {breaches}/{total} ({breach_rate*100:.2f}%)\")\n"
   ]
  },
  {
   "cell_type": "code",
   "execution_count": 8,
   "id": "58be95bb",
   "metadata": {},
   "outputs": [
    {
     "name": "stdout",
     "output_type": "stream",
     "text": [
      "Shocked-corr VaR (ρ=0.25): £11,885\n",
      "Change vs baseline: £-2,918\n"
     ]
    }
   ],
   "source": [
    "# Cell 8: Correlation shock scenario\n",
    "# Helper: replace correlations with a target value, keep variances\n",
    "def shock_cov_to_offdiag_target(cov_in, target_rho, strength=1.0):\n",
    "    std = np.sqrt(np.diag(cov_in.values))\n",
    "    corr = cov_in.copy()\n",
    "    for i in range(corr.shape[0]):\n",
    "        for j in range(corr.shape[1]):\n",
    "            if i == j:\n",
    "                corr.iat[i, j] = 1.0\n",
    "            else:\n",
    "                rho0 = cov_in.iloc[i, j] / (std[i] * std[j])\n",
    "                corr.iat[i, j] = (1 - strength) * rho0 + strength * target_rho\n",
    "    std_col = pd.Series(std, index=cov_in.index)\n",
    "    shocked = corr.mul(std_col, axis=0).mul(std_col, axis=1)\n",
    "    return shocked\n",
    "\n",
    "if target_offdiag_corr is not None:\n",
    "    shocked_cov = shock_cov_to_offdiag_target(cov, target_offdiag_corr, shock_strength)\n",
    "    Ls = np.linalg.cholesky(shocked_cov.values)\n",
    "    zs = rng.standard_normal(size=(n_sims, len(tickers)))\n",
    "    shocks_s = zs @ Ls.T + mu.values\n",
    "    sim_rets_s = np.exp(shocks_s) - 1.0 if return_model == \"log\" else shocks_s\n",
    "    port_pnl_s = capital * (sim_rets_s @ w.values)\n",
    "    q_s = np.quantile(port_pnl_s, 1 - alpha)\n",
    "    var_s = -q_s\n",
    "    print(f\"Shocked-corr VaR (ρ={target_offdiag_corr:.2f}): £{var_s:,.0f}\")\n",
    "    print(f\"Change vs baseline: £{(var_s - var_95):,.0f}\")\n"
   ]
  },
  {
   "cell_type": "code",
   "execution_count": 9,
   "id": "1e6cf3b9",
   "metadata": {},
   "outputs": [
    {
     "name": "stdout",
     "output_type": "stream",
     "text": [
      "Label-aligned demo mean/variance: 0.00035375505134572826 8.60504007908502e-05\n",
      "Warning: VaR decreased under higher correlation — unusual result.\n"
     ]
    }
   ],
   "source": [
    "# Cell 9: Extra robustness checks\n",
    "# Sanity: check all objects are aligned\n",
    "assert list(log_rets.columns) == tickers\n",
    "assert list(arith_rets.columns) == tickers\n",
    "assert list(mu.index) == tickers\n",
    "\n",
    "demo_mu = float(mu @ w)\n",
    "demo_var = float(w @ cov @ w)\n",
    "print(\"Label-aligned demo mean/variance:\", demo_mu, demo_var)\n",
    "\n",
    "if target_offdiag_corr is not None and 'var_s' in locals():\n",
    "    if (var_s - var_95) < 0:\n",
    "        print(\"Warning: VaR decreased under higher correlation — unusual result.\")\n",
    "    else:\n",
    "        print(\"Sanity: VaR increased with higher correlation, as expected.\")\n"
   ]
  },
  {
   "cell_type": "code",
   "execution_count": 10,
   "id": "4968e967",
   "metadata": {},
   "outputs": [
    {
     "data": {
      "text/plain": [
       "{'alpha': 0.95,\n",
       " 'capital': 1000000.0,\n",
       " 'return_model': 'log',\n",
       " 'n_sims': 200000,\n",
       " 'port_mean_1d': 0.0003982211615907076,\n",
       " 'port_std_1d': 0.009286783989110429,\n",
       " 'VaR_MC': 14802.981727586792,\n",
       " 'ES_MC': 18615.416163831032,\n",
       " 'VaR_parametric': 14791.857209604523,\n",
       " 'backtest_breaches': 107,\n",
       " 'backtest_total': 2703,\n",
       " 'backtest_breach_rate': 0.03958564557898631,\n",
       " 'VaR_shocked_corr': 11884.53555640859,\n",
       " 'VaR_shock_change': -2918.4461711782023}"
      ]
     },
     "execution_count": 10,
     "metadata": {},
     "output_type": "execute_result"
    }
   ],
   "source": [
    "# Cell 10: Collect results in a dictionary\n",
    "results = {\n",
    "    \"alpha\": alpha,\n",
    "    \"capital\": capital,\n",
    "    \"return_model\": return_model,\n",
    "    \"n_sims\": n_sims,\n",
    "    \"port_mean_1d\": port_mean,\n",
    "    \"port_std_1d\": port_std,\n",
    "    \"VaR_MC\": float(var_95),\n",
    "    \"ES_MC\": float(es_95),\n",
    "    \"VaR_parametric\": float(var_param),\n",
    "    \"backtest_breaches\": int(breaches),\n",
    "    \"backtest_total\": int(total),\n",
    "    \"backtest_breach_rate\": float(breach_rate),\n",
    "}\n",
    "if 'var_s' in locals():\n",
    "    results[\"VaR_shocked_corr\"] = float(var_s)\n",
    "    results[\"VaR_shock_change\"] = float(var_s - var_95)\n",
    "\n",
    "results\n"
   ]
  },
  {
   "cell_type": "code",
   "execution_count": null,
   "id": "bc195719",
   "metadata": {},
   "outputs": [],
   "source": []
  }
 ],
 "metadata": {
  "kernelspec": {
   "display_name": "base",
   "language": "python",
   "name": "python3"
  },
  "language_info": {
   "codemirror_mode": {
    "name": "ipython",
    "version": 3
   },
   "file_extension": ".py",
   "mimetype": "text/x-python",
   "name": "python",
   "nbconvert_exporter": "python",
   "pygments_lexer": "ipython3",
   "version": "3.12.4"
  }
 },
 "nbformat": 4,
 "nbformat_minor": 5
}
